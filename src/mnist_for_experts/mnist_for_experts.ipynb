{
 "cells": [
  {
   "cell_type": "markdown",
   "metadata": {},
   "source": [
    "# TensorFlow Tutorial\n",
    "\n",
    "## MNIST for experts\n",
    "<https://www.tensorflow.org/versions/r0.10/tutorials/mnist/pros/index.html>  \n",
    "CNNを用いたネットワークでMNISTをクラス分類. 99%程度の認識率.\n",
    "\n",
    "### 初期準備\n",
    "本コードを実行する前にtensorflow tutorialに付随するinput_data.pyを同じディクショナリに用意する\n",
    "<https://tensorflow.googlesource.com/tensorflow/+/master/tensorflow/examples/tutorials/mnist/input_data.py\n",
    ">"
   ]
  },
  {
   "cell_type": "code",
   "execution_count": null,
   "metadata": {
    "collapsed": true
   },
   "outputs": [],
   "source": [
    "# TensowFlowのインポート\n",
    "import tensorflow as tf\n",
    "# mnistデータの用意\n",
    "import input_data\n",
    "\n",
    "import time\n",
    "\n",
    "# 開始時刻\n",
    "start_time = time.time()\n",
    "print (\"開始時刻: \" + str(start_time))"
   ]
  },
  {
   "cell_type": "markdown",
   "metadata": {},
   "source": [
    "### 関数の定義"
   ]
  },
  {
   "cell_type": "code",
   "execution_count": null,
   "metadata": {
    "collapsed": true
   },
   "outputs": [],
   "source": [
    "def weight_variable(shape):\n",
    "    \"\"\"適度にノイズを含んだ（対称性の除去と勾配ゼロ防止のため）重み行列作成関数\n",
    "    \"\"\"\n",
    "\n",
    "    initial = tf.truncated_normal(shape, stddev=0.1)\n",
    "    return tf.Variable(initial)\n",
    "\n",
    "def bias_variable(shape):\n",
    "    \"\"\"バイアス行列作成関数\n",
    "    \"\"\"\n",
    "    initial = tf.constant(0.1, shape=shape)\n",
    "    return tf.Variable(initial)\n",
    "\n",
    "def conv2d(x, W):\n",
    "    \"\"\"2次元畳み込み関数\n",
    "       strides 真ん中2つが縦横のストライド\n",
    "    \"\"\"\n",
    "    return tf.nn.conv2d(x, W, strides=[1, 1, 1, 1], padding='SAME')\n",
    "\n",
    "def max_pool_2x2(x):\n",
    "    \"\"\"2x2マックスプーリング関数\n",
    "       strides 真ん中2つが縦横のストライド\n",
    "    \"\"\"\n",
    "    return tf.nn.max_pool(x, ksize=[1, 2, 2, 1], strides=[1, 2, 2, 1], padding='SAME')"
   ]
  },
  {
   "cell_type": "markdown",
   "metadata": {},
   "source": [
    "### MNISTデータセットの準備\n",
    "- 60000点の訓練データ（mnist.train）と10000点のテストデータ（mnist.test）がある\n",
    "- 訓練データとテストデータにはそれぞれ0-9の画像とそれに対応するラベル（0-9）がある\n",
    "- 画像は28x28px(=784)のサイズ\n",
    "- mnist.train.imagesは[60000, 784]の配列であり、mnist.train.lablesは[60000, 10]の配列\n",
    "- lablesの配列は、対応するimagesの画像が3の数字であるならば、[0,0,0,1,0,0,0,0,0,0]となっている\n",
    "- mnist.test.imagesは[10000, 784]の配列であり、mnist.test.lablesは[10000, 10]の配列\n",
    "![](https://www.tensorflow.org/versions/r0.10/images/MNIST-Matrix.png)\n",
    "![](https://www.tensorflow.org/versions/r0.10/images/mnist-train-xs.png)\n",
    "![](https://www.tensorflow.org/versions/r0.10/images/mnist-train-ys.png)"
   ]
  },
  {
   "cell_type": "code",
   "execution_count": null,
   "metadata": {
    "collapsed": true
   },
   "outputs": [],
   "source": [
    "print(\"--- MNISTデータの読み込み開始 ---\")\n",
    "mnist = input_data.read_data_sets(\"MNIST_data/\", one_hot=True)\n",
    "print(\"mnist.train: \", end=\"\")\n",
    "print(mnist.train.images.shape)\n",
    "print(mnist.train.images)\n",
    "print(\"mnist.test: \", end=\"\")\n",
    "print(mnist.train.images.shape)\n",
    "print(mnist.test.images)\n",
    "print(\"--- MNISTデータの読み込み完了 ---\")"
   ]
  },
  {
   "cell_type": "markdown",
   "metadata": {},
   "source": [
    "### Sessionの定義"
   ]
  },
  {
   "cell_type": "code",
   "execution_count": null,
   "metadata": {
    "collapsed": true
   },
   "outputs": [],
   "source": [
    "sess = tf.InteractiveSession()"
   ]
  },
  {
   "cell_type": "markdown",
   "metadata": {},
   "source": [
    "### TensorFlowの変数を定義\n",
    "\n",
    "`with tf.device(\"/cpu:0\"):`と記述し後の変数やモデルを定義するコードをこのwith内に含めると, コードを走らせるデバイスを指定可能."
   ]
  },
  {
   "cell_type": "code",
   "execution_count": null,
   "metadata": {
    "collapsed": true
   },
   "outputs": [],
   "source": [
    "# データ用可変2階テンソルを用意\n",
    "x = tf.placeholder(\"float\", shape=[None, 784])\n",
    "# 正解用可変2階テンソルを用意\n",
    "y_ = tf.placeholder(\"float\", shape=[None, 10])\n",
    "\n",
    "# 画像をリシェイプ 第2引数は画像数(-1は元サイズを保存するように自動計算)、縦x横、チャネル\n",
    "x_image = tf.reshape(x, [-1, 28, 28, 1])"
   ]
  },
  {
   "cell_type": "markdown",
   "metadata": {},
   "source": [
    "### 学習のモデルを定義\n",
    "![](https://qiita-image-store.s3.amazonaws.com/0/127038/fdfb6202-17d7-3d8f-bf03-f2fa89cab4a2.png)"
   ]
  },
  {
   "cell_type": "code",
   "execution_count": null,
   "metadata": {
    "collapsed": true
   },
   "outputs": [],
   "source": [
    "### 1層目 畳み込み層\n",
    "\n",
    "# 畳み込み層のフィルタ重み、引数はパッチサイズ縦、パッチサイズ横、入力チャネル数、出力チャネル数\n",
    "# 5x5フィルタで32チャネルを出力（入力は白黒画像なので1チャンネル）\n",
    "W_conv1 = weight_variable([5, 5, 1, 32])\n",
    "# 畳み込み層のバイアス\n",
    "b_conv1 = bias_variable([32])\n",
    "# 活性化関数ReLUでの畳み込み層を構築\n",
    "h_conv1 = tf.nn.relu(conv2d(x_image, W_conv1) + b_conv1)\n",
    "\n",
    "### 2層目 プーリング層\n",
    "\n",
    "# 2x2のマックスプーリング層を構築\n",
    "h_pool1 = max_pool_2x2(h_conv1)\n",
    "\n",
    "### 3層目 畳み込み層\n",
    "\n",
    "# パッチサイズ縦、パッチサイズ横、入力チャネル、出力チャネル\n",
    "# 5x5フィルタで64チャネルを出力\n",
    "W_conv2 = weight_variable([5, 5, 32, 64])\n",
    "b_conv2 = bias_variable([64])\n",
    "h_conv2 = tf.nn.relu(conv2d(h_pool1, W_conv2) + b_conv2)\n",
    "\n",
    "### 4層目 プーリング層\n",
    "h_pool2 = max_pool_2x2(h_conv2)\n",
    "\n",
    "### 5層目 全結合層\n",
    "\n",
    "# オリジナル画像が28x28で、今回畳み込みでpadding='SAME'を指定しているため\n",
    "# プーリングでのみ画像サイズが変わる。2x2プーリングで2x2でストライドも2x2なので\n",
    "# 縦横ともに各層で半減する。そのため、28 / 2 / 2 = 7が現在の画像サイズ\n",
    "\n",
    "# 全結合層にするために、1階テンソルに変形。画像サイズ縦と画像サイズ横とチャネル数の積の次元\n",
    "# 出力は1024（この辺は決めです）　あとはSoftmax Regressionと同じ\n",
    "W_fc1 = weight_variable([7 * 7 * 64, 1024])\n",
    "b_fc1 = bias_variable([1024])\n",
    "\n",
    "h_pool2_flat = tf.reshape(h_pool2, [-1, 7 * 7 * 64])\n",
    "h_fc1 = tf.nn.relu(tf.matmul(h_pool2_flat, W_fc1) + b_fc1)\n",
    "\n",
    "# ドロップアウトを指定\n",
    "keep_prob = tf.placeholder(\"float\")\n",
    "h_fc1_drop = tf.nn.dropout(h_fc1, keep_prob)\n",
    "\n",
    "### 6層目 Softmax Regression層\n",
    "\n",
    "W_fc2 = weight_variable([1024, 10])\n",
    "b_fc2 = bias_variable([10])\n",
    "\n",
    "y_conv = tf.nn.softmax(tf.matmul(h_fc1_drop, W_fc2) + b_fc2)\n"
   ]
  },
  {
   "cell_type": "markdown",
   "metadata": {},
   "source": [
    "### 誤差の計算"
   ]
  },
  {
   "cell_type": "code",
   "execution_count": null,
   "metadata": {
    "collapsed": true
   },
   "outputs": [],
   "source": [
    "#   クロスエントロピーの計算をname_scopeでまとめる\n",
    "with tf.name_scope(\"cross-entropy\") as scope:\n",
    "        cross_entropy = -tf.reduce_sum(y_*tf.log(y_conv))\n",
    "\n",
    "#   最急降下法の計算をname_scopeでまとめる\n",
    " with tf.name_scope(\"training\") as scope:\n",
    "        train_step = tf.train.AdamOptimizer(1e-4).minimize(cross_entropy)"
   ]
  },
  {
   "cell_type": "markdown",
   "metadata": {},
   "source": [
    "### 予測と認識結果の計算"
   ]
  },
  {
   "cell_type": "code",
   "execution_count": null,
   "metadata": {
    "collapsed": true
   },
   "outputs": [],
   "source": [
    "correct_prediction = tf.equal(tf.argmax(y_conv,1), tf.argmax(y_,1))\n",
    "accuracy = tf.reduce_mean(tf.cast(correct_prediction, \"float\"))"
   ]
  },
  {
   "cell_type": "markdown",
   "metadata": {},
   "source": [
    "### TensorFlowのおまじない"
   ]
  },
  {
   "cell_type": "code",
   "execution_count": null,
   "metadata": {
    "collapsed": true
   },
   "outputs": [],
   "source": [
    "# 意した変数Veriableの初期化を実行する\n",
    "sess.run(tf.initialize_all_variables())"
   ]
  },
  {
   "cell_type": "markdown",
   "metadata": {},
   "source": [
    "### TensorBoeard用の準備"
   ]
  },
  {
   "cell_type": "code",
   "execution_count": null,
   "metadata": {
    "collapsed": true
   },
   "outputs": [],
   "source": [
    "# TensorBoardにまとめる項目の設定\n",
    "    tf.scalar_summary(\"lossの変化\", cross_entropy)\n",
    "\n",
    "    # TensorBoardにこのネットワークのGraphを描画できるように\n",
    "    # TensorBoardで表示する値の設定\n",
    "    summary_op = tf.merge_all_summaries()\n",
    "    summary_writer = tf.train.SummaryWriter('tb_mnist_experts', graph=sess.graph)"
   ]
  },
  {
   "cell_type": "markdown",
   "metadata": {},
   "source": [
    "### 予測と認識結果の計算"
   ]
  },
  {
   "cell_type": "markdown",
   "metadata": {},
   "source": [
    "### 学習ステップ毎の処理"
   ]
  },
  {
   "cell_type": "code",
   "execution_count": null,
   "metadata": {
    "collapsed": true
   },
   "outputs": [],
   "source": [
    "for i in range(20000):\n",
    "        batch = mnist.train.next_batch(50)\n",
    "        if i%100 == 0:\n",
    "            train_accuracy = accuracy.eval(feed_dict={x:batch[0], y_: batch[1], keep_prob: 1.0})\n",
    "            print(\"step %d, training accuracy %g\"%(i, train_accuracy))\n",
    "        train_step.run(feed_dict={x: batch[0], y_: batch[1], keep_prob: 0.5})\n",
    "\n",
    "        # 1step毎にTensorBoardに表示する値を追加する\n",
    "        summary_str = sess.run(summary_op, feed_dict={x :batch[0], y_: batch[1], keep_prob: 0.5})\n",
    "        summary_writer.add_summary(summary_str, i)\n",
    "\n",
    "    print(\"test accuracy %g\"%accuracy.eval(feed_dict={\n",
    "        x: mnist.test.images, y_: mnist.test.labels, keep_prob: 1.0}))"
   ]
  },
  {
   "cell_type": "markdown",
   "metadata": {},
   "source": [
    "### 結果の表示"
   ]
  },
  {
   "cell_type": "code",
   "execution_count": null,
   "metadata": {
    "collapsed": true
   },
   "outputs": [],
   "source": [
    "print(\"test accuracy %g\"%accuracy.eval(feed_dict={\n",
    "        x: mnist.test.images, y_: mnist.test.labels, keep_prob: 1.0}))\n",
    "\n",
    "    # 終了時刻\n",
    "    end_time = time.time()\n",
    "    print(\"終了時刻: \" + str(end_time))\n",
    "    print(\"かかった時間: \" + str(end_time - start_time))"
   ]
  }
 ],
 "metadata": {
  "kernelspec": {
   "display_name": "Python 3",
   "language": "python",
   "name": "python3"
  },
  "language_info": {
   "codemirror_mode": {
    "name": "ipython",
    "version": 3
   },
   "file_extension": ".py",
   "mimetype": "text/x-python",
   "name": "python",
   "nbconvert_exporter": "python",
   "pygments_lexer": "ipython3",
   "version": "3.5.1"
  }
 },
 "nbformat": 4,
 "nbformat_minor": 1
}
