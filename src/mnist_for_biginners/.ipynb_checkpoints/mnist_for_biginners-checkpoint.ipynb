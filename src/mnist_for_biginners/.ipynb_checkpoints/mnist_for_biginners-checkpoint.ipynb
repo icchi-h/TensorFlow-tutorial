{
 "cells": [
  {
   "cell_type": "markdown",
   "metadata": {},
   "source": [
    "# TensorFlow Tutorial\n",
    "\n",
    "## MNIST for biginners\n",
    "<https://www.tensorflow.org/versions/r0.10/tutorials/mnist/beginners/index.html>\n",
    "非常にシンプルな3層のネットワークを用いてMNISTをクラス分類. 91%程度の認識率.\n",
    "\n",
    "### 初期準備\n",
    "本コードを実行する前にtensorflow tutorialに付随するinput_data.pyを同じディクショナリに用意する\n",
    "<https://tensorflow.googlesource.com/tensorflow/+/master/tensorflow/examples/tutorials/mnist/input_data.py\n",
    ">"
   ]
  },
  {
   "cell_type": "code",
   "execution_count": null,
   "metadata": {
    "collapsed": true
   },
   "outputs": [],
   "source": [
    "# TensowFlowのインポート\n",
    "import tensorflow as tf\n",
    "# mnistデータの用意\n",
    "import input_data\n",
    "\n",
    "import time\n",
    "\n",
    "# 開始時刻\n",
    "start_time = time.time()\n",
    "print (\"開始時刻: \" + str(start_time))"
   ]
  },
  {
   "cell_type": "code",
   "execution_count": null,
   "metadata": {
    "collapsed": true
   },
   "outputs": [],
   "source": [
    "# parameters\n",
    "learning_rate = 0.01\n",
    "training_epochs = 1000"
   ]
  },
  {
   "cell_type": "markdown",
   "metadata": {},
   "source": [
    "### MNISTデータセットの準備\n",
    "- 60000点の訓練データ（mnist.train）と10000点のテストデータ（mnist.test）がある\n",
    "- 訓練データとテストデータにはそれぞれ0-9の画像とそれに対応するラベル（0-9）がある\n",
    "- 画像は28x28px(=784)のサイズ\n",
    "- mnist.train.imagesは[60000, 784]の配列であり、mnist.train.lablesは[60000, 10]の配列\n",
    "- lablesの配列は、対応するimagesの画像が3の数字であるならば、[0,0,0,1,0,0,0,0,0,0]となっている\n",
    "- mnist.test.imagesは[10000, 784]の配列であり、mnist.test.lablesは[10000, 10]の配列\n",
    "![](https://www.tensorflow.org/versions/r0.10/images/MNIST-Matrix.png)\n",
    "![](https://www.tensorflow.org/versions/r0.10/images/mnist-train-xs.png)\n",
    "![](https://www.tensorflow.org/versions/r0.10/images/mnist-train-ys.png)"
   ]
  },
  {
   "cell_type": "code",
   "execution_count": null,
   "metadata": {
    "collapsed": true
   },
   "outputs": [],
   "source": [
    "print(\"--- MNISTデータの読み込み開始 ---\")\n",
    "mnist = input_data.read_data_sets(\"MNIST_data/\", one_hot=True)\n",
    "print(\"mnist.train: \", end=\"\")\n",
    "print(mnist.train.images.shape)\n",
    "print(mnist.train.images)\n",
    "print(\"mnist.test: \", end=\"\")\n",
    "print(mnist.train.images.shape)\n",
    "print(mnist.test.images)\n",
    "print(\"--- MNISTデータの読み込み完了 ---\")"
   ]
  },
  {
   "cell_type": "markdown",
   "metadata": {},
   "source": [
    "### TensorFlowの変数を定義"
   ]
  },
  {
   "cell_type": "code",
   "execution_count": null,
   "metadata": {
    "collapsed": true
   },
   "outputs": [],
   "source": [
    "# 訓練画像を入れる変数\n",
    "# 訓練画像は28x28pxであり、これらを1行784列のベクトルに並び替え格納する\n",
    "# Noneとなっているのは訓練画像がいくつでも入れられるようにするため\n",
    "x = tf.placeholder(tf.float32, [None, 784], name=\"x\")\n",
    "\n",
    "# yは正解データのラベル\n",
    "y = tf.placeholder(tf.float32, [None, 10], name=\"y\")\n",
    "\n",
    "# 重み\n",
    "# 訓練画像のpx数の行、ラベル（0-9の数字の個数）数の列の行列\n",
    "# 初期値として0を入れておく\n",
    "W = tf.Variable(tf.zeros([784, 10]), name=\"weights\")\n",
    "\n",
    "# バイアス\n",
    "# ラベル数の列の行列\n",
    "# 初期値として0を入れておく\n",
    "b = tf.Variable(tf.zeros([10]), name=\"bias\")"
   ]
  },
  {
   "cell_type": "markdown",
   "metadata": {},
   "source": [
    "### 学習のモデルを定義\n",
    "今回は非常にシンプルな中間層1層のモデル. 他クラス分類のため活性化関数にはsoftmax()を利用.\n",
    "![](https://www.tensorflow.org/versions/r0.10/images/softmax-regression-scalargraph.png)\n",
    "![](https://www.tensorflow.org/versions/r0.10/images/softmax-regression-vectorequation.png)"
   ]
  },
  {
   "cell_type": "code",
   "execution_count": null,
   "metadata": {
    "collapsed": true
   },
   "outputs": [],
   "source": [
    "# ソフトマックス回帰を実行\n",
    "# yは入力x（画像）に対しそれがある数字である確率の分布\n",
    "# matmul関数で行列xとWの掛け算を行った後、bを加算する。\n",
    "# yは[1, 10]の行列\n",
    "activation = tf.nn.softmax(tf.matmul(x, W) + b)"
   ]
  },
  {
   "cell_type": "markdown",
   "metadata": {},
   "source": [
    "### 誤差の計算"
   ]
  },
  {
   "cell_type": "code",
   "execution_count": null,
   "metadata": {
    "collapsed": true
   },
   "outputs": [],
   "source": [
    "#   クロスエントロピーの計算をname_scopeでまとめる\n",
    "with tf.name_scope(\"cross-entropy\") as scope:\n",
    "    cross_entropy = -tf.reduce_sum(y*tf.log(activation))\n",
    "\n",
    "#   最急降下法の計算をname_scopeでまとめる\n",
    "with tf.name_scope(\"training\") as scope:\n",
    "    # 勾配硬化法を用い交差エントロピーが最小となるようyを最適化する\n",
    "    train_step = tf.train.GradientDescentOptimizer(0.01).minimize(cross_entropy)"
   ]
  },
  {
   "cell_type": "markdown",
   "metadata": {},
   "source": [
    "### TensorBoeard用の準備\n",
    "TensorFlowにはTensorBoardと呼ばれる学習の可視化ソフトウェアが付随している.\n",
    "![](https://www.tensorflow.org/versions/master/images/mnist_tensorboard.png)"
   ]
  },
  {
   "cell_type": "code",
   "execution_count": null,
   "metadata": {
    "collapsed": true
   },
   "outputs": [],
   "source": [
    "# TensorBoardにまとめる項目の設定\n",
    "tf.scalar_summary(\"cross_entropy\", cross_entropy)"
   ]
  },
  {
   "cell_type": "markdown",
   "metadata": {},
   "source": [
    "### TensorFlowのおまじない"
   ]
  },
  {
   "cell_type": "code",
   "execution_count": null,
   "metadata": {
    "collapsed": true
   },
   "outputs": [],
   "source": [
    "# 意した変数Veriableの初期化を実行する\n",
    "init = tf.initialize_all_variables()"
   ]
  },
  {
   "cell_type": "code",
   "execution_count": null,
   "metadata": {
    "collapsed": true
   },
   "outputs": [],
   "source": [
    "# Sessionを開始する\n",
    "# runすることで初めて実行開始される（run(init)しないとinitが実行されない）\n",
    "sess = tf.Session()\n",
    "sess.run(init)"
   ]
  },
  {
   "cell_type": "markdown",
   "metadata": {},
   "source": [
    "### TensorBoard用の設定"
   ]
  },
  {
   "cell_type": "code",
   "execution_count": null,
   "metadata": {
    "collapsed": true
   },
   "outputs": [],
   "source": [
    "# TensorBoardにこのネットワークのGraphを描画できるように\n",
    "summary_op = tf.merge_all_summaries()\n",
    "# TensorBoard用に出力するディレクトリの設定\n",
    "summary_writer = tf.train.SummaryWriter('tb_mnist_biginners', graph=sess.graph)"
   ]
  },
  {
   "cell_type": "markdown",
   "metadata": {},
   "source": [
    "### 予測と認識結果の計算"
   ]
  },
  {
   "cell_type": "code",
   "execution_count": null,
   "metadata": {
    "collapsed": true
   },
   "outputs": [],
   "source": [
    "# 正しいかの予測\n",
    "# 計算された画像がどの数字であるかの予測yと正解ラベルy_を比較する\n",
    "# 同じ値であればTrueが返される\n",
    "# argmaxは配列の中で一番値の大きい箇所のindexが返される\n",
    "# 一番値が大きいindexということは、それがその数字である確率が一番大きいということ\n",
    "# Trueが返ってくるということは訓練した結果と回答が同じということ\n",
    "correct_prediction = tf.equal(tf.argmax(activation,1), tf.argmax(y,1))\n",
    "\n",
    "# 精度の計算\n",
    "# correct_predictionはbooleanなのでfloatにキャストし、平均値を計算する\n",
    "# Trueならば1、Falseならば0に変換される\n",
    "accuracy = tf.reduce_mean(tf.cast(correct_prediction, \"float\"))"
   ]
  },
  {
   "cell_type": "markdown",
   "metadata": {},
   "source": [
    "### 学習ステップ毎の処理"
   ]
  },
  {
   "cell_type": "code",
   "execution_count": null,
   "metadata": {
    "collapsed": true
   },
   "outputs": [],
   "source": [
    "print(\"--- 訓練開始 ---\")\n",
    "for i in range(1000):\n",
    "    batch_xs, batch_ys = mnist.train.next_batch(100)\n",
    "    sess.run(train_step, feed_dict={x: batch_xs, y: batch_ys})\n",
    "\n",
    "    if i%100 == 0:\n",
    "        print(\"step %d, training accuracy %g\"%(i, sess.run(accuracy, feed_dict={x: batch_xs, y: batch_ys})))\n",
    "\n",
    "    # 1step毎にTensorBoardに表示する値を追加する\n",
    "    summary_str = sess.run(summary_op, feed_dict={x :batch_xs, y: batch_ys})\n",
    "    summary_writer.add_summary(summary_str, i)\n",
    "print(\"--- 訓練終了 ---\")"
   ]
  },
  {
   "cell_type": "markdown",
   "metadata": {},
   "source": [
    "### 結果の表示"
   ]
  },
  {
   "cell_type": "code",
   "execution_count": null,
   "metadata": {
    "collapsed": true
   },
   "outputs": [],
   "source": [
    "# 精度の実行と表示\n",
    "# テストデータの画像とラベルで精度を確認する\n",
    "# ソフトマックス回帰によってWとbの値が計算されているので、xを入力することでyが計算できる\n",
    "print(\"精度\")\n",
    "print(sess.run(accuracy, feed_dict={x: mnist.test.images, y: mnist.test.labels}))\n",
    "\n",
    "# 終了時刻\n",
    "end_time = time.time()\n",
    "print(\"終了時刻: \" + str(end_time))\n",
    "print(\"かかった時間: \" + str(end_time - start_time))"
   ]
  }
 ],
 "metadata": {
  "kernelspec": {
   "display_name": "Python 3",
   "language": "python",
   "name": "python3"
  },
  "language_info": {
   "codemirror_mode": {
    "name": "ipython",
    "version": 3
   },
   "file_extension": ".py",
   "mimetype": "text/x-python",
   "name": "python",
   "nbconvert_exporter": "python",
   "pygments_lexer": "ipython3",
   "version": "3.5.1"
  }
 },
 "nbformat": 4,
 "nbformat_minor": 1
}
